{
  "nbformat": 4,
  "nbformat_minor": 0,
  "metadata": {
    "colab": {
      "provenance": [],
      "collapsed_sections": []
    },
    "kernelspec": {
      "name": "python3",
      "display_name": "Python 3"
    },
    "language_info": {
      "name": "python"
    },
    "gpuClass": "standard"
  },
  "cells": [
    {
      "cell_type": "code",
      "source": [
        "pip install gym_super_mario_bros"
      ],
      "metadata": {
        "colab": {
          "base_uri": "https://localhost:8080/"
        },
        "id": "AAh73o4VqL85",
        "outputId": "69702944-bc4e-4ace-aca3-4bd3c8d131f7"
      },
      "execution_count": 25,
      "outputs": [
        {
          "output_type": "stream",
          "name": "stdout",
          "text": [
            "Looking in indexes: https://pypi.org/simple, https://us-python.pkg.dev/colab-wheels/public/simple/\n",
            "Requirement already satisfied: gym_super_mario_bros in /usr/local/lib/python3.7/dist-packages (7.4.0)\n",
            "Requirement already satisfied: nes-py>=8.1.4 in /usr/local/lib/python3.7/dist-packages (from gym_super_mario_bros) (8.2.1)\n",
            "Requirement already satisfied: tqdm>=4.48.2 in /usr/local/lib/python3.7/dist-packages (from nes-py>=8.1.4->gym_super_mario_bros) (4.64.1)\n",
            "Requirement already satisfied: gym>=0.17.2 in /usr/local/lib/python3.7/dist-packages (from nes-py>=8.1.4->gym_super_mario_bros) (0.25.2)\n",
            "Requirement already satisfied: numpy>=1.18.5 in /usr/local/lib/python3.7/dist-packages (from nes-py>=8.1.4->gym_super_mario_bros) (1.21.6)\n",
            "Requirement already satisfied: pyglet<=1.5.21,>=1.4.0 in /usr/local/lib/python3.7/dist-packages (from nes-py>=8.1.4->gym_super_mario_bros) (1.5.21)\n",
            "Requirement already satisfied: cloudpickle>=1.2.0 in /usr/local/lib/python3.7/dist-packages (from gym>=0.17.2->nes-py>=8.1.4->gym_super_mario_bros) (1.5.0)\n",
            "Requirement already satisfied: gym-notices>=0.0.4 in /usr/local/lib/python3.7/dist-packages (from gym>=0.17.2->nes-py>=8.1.4->gym_super_mario_bros) (0.0.8)\n",
            "Requirement already satisfied: importlib-metadata>=4.8.0 in /usr/local/lib/python3.7/dist-packages (from gym>=0.17.2->nes-py>=8.1.4->gym_super_mario_bros) (4.13.0)\n",
            "Requirement already satisfied: typing-extensions>=3.6.4 in /usr/local/lib/python3.7/dist-packages (from importlib-metadata>=4.8.0->gym>=0.17.2->nes-py>=8.1.4->gym_super_mario_bros) (4.1.1)\n",
            "Requirement already satisfied: zipp>=0.5 in /usr/local/lib/python3.7/dist-packages (from importlib-metadata>=4.8.0->gym>=0.17.2->nes-py>=8.1.4->gym_super_mario_bros) (3.10.0)\n"
          ]
        }
      ]
    },
    {
      "cell_type": "code",
      "source": [
        "pip install nes_py"
      ],
      "metadata": {
        "colab": {
          "base_uri": "https://localhost:8080/"
        },
        "id": "Lat1KzfFqNj3",
        "outputId": "849fd2c3-57cd-4486-842e-8ab46a38653f"
      },
      "execution_count": 26,
      "outputs": [
        {
          "output_type": "stream",
          "name": "stdout",
          "text": [
            "Looking in indexes: https://pypi.org/simple, https://us-python.pkg.dev/colab-wheels/public/simple/\n",
            "Requirement already satisfied: nes_py in /usr/local/lib/python3.7/dist-packages (8.2.1)\n",
            "Requirement already satisfied: tqdm>=4.48.2 in /usr/local/lib/python3.7/dist-packages (from nes_py) (4.64.1)\n",
            "Requirement already satisfied: numpy>=1.18.5 in /usr/local/lib/python3.7/dist-packages (from nes_py) (1.21.6)\n",
            "Requirement already satisfied: gym>=0.17.2 in /usr/local/lib/python3.7/dist-packages (from nes_py) (0.25.2)\n",
            "Requirement already satisfied: pyglet<=1.5.21,>=1.4.0 in /usr/local/lib/python3.7/dist-packages (from nes_py) (1.5.21)\n",
            "Requirement already satisfied: importlib-metadata>=4.8.0 in /usr/local/lib/python3.7/dist-packages (from gym>=0.17.2->nes_py) (4.13.0)\n",
            "Requirement already satisfied: gym-notices>=0.0.4 in /usr/local/lib/python3.7/dist-packages (from gym>=0.17.2->nes_py) (0.0.8)\n",
            "Requirement already satisfied: cloudpickle>=1.2.0 in /usr/local/lib/python3.7/dist-packages (from gym>=0.17.2->nes_py) (1.5.0)\n",
            "Requirement already satisfied: typing-extensions>=3.6.4 in /usr/local/lib/python3.7/dist-packages (from importlib-metadata>=4.8.0->gym>=0.17.2->nes_py) (4.1.1)\n",
            "Requirement already satisfied: zipp>=0.5 in /usr/local/lib/python3.7/dist-packages (from importlib-metadata>=4.8.0->gym>=0.17.2->nes_py) (3.10.0)\n"
          ]
        }
      ]
    },
    {
      "cell_type": "code",
      "source": [
        "import torch\n",
        "import torch.nn as nn\n",
        "import random\n",
        "from nes_py.wrappers import JoypadSpace\n",
        "import gym_super_mario_bros\n",
        "from tqdm import tqdm\n",
        "import pickle \n",
        "from gym_super_mario_bros.actions import RIGHT_ONLY, SIMPLE_MOVEMENT, COMPLEX_MOVEMENT\n",
        "import gym\n",
        "import numpy as np\n",
        "import collections \n",
        "import cv2\n",
        "import matplotlib.pyplot as plt\n",
        "\n",
        "%matplotlib inline\n",
        "import time\n",
        "import pylab as pl\n",
        "from IPython import display"
      ],
      "metadata": {
        "id": "7PmjLD_0i_Au"
      },
      "execution_count": 27,
      "outputs": []
    },
    {
      "cell_type": "code",
      "source": [
        "class MaxAndSkipEnv(gym.Wrapper):\n",
        "    \"\"\"\n",
        "        Each action of the agent is repeated over skip frames\n",
        "        return only every `skip`-th frame\n",
        "    \"\"\"\n",
        "    def __init__(self, env=None, skip=4):\n",
        "        super(MaxAndSkipEnv, self).__init__(env)\n",
        "        # most recent raw observations (for max pooling across time steps)\n",
        "        self._obs_buffer = collections.deque(maxlen=2)\n",
        "        self._skip = skip\n",
        "\n",
        "    def step(self, action):\n",
        "        total_reward = 0.0\n",
        "        done = None\n",
        "        for _ in range(self._skip):\n",
        "            obs, reward, done, info = self.env.step(action)\n",
        "            self._obs_buffer.append(obs)\n",
        "            total_reward += reward\n",
        "            if done:\n",
        "                break\n",
        "        max_frame = np.max(np.stack(self._obs_buffer), axis=0)\n",
        "        return max_frame, total_reward, done, info\n",
        "\n",
        "    def reset(self):\n",
        "        \"\"\"Clear past frame buffer and init to first obs\"\"\"\n",
        "        self._obs_buffer.clear()\n",
        "        obs = self.env.reset()\n",
        "        self._obs_buffer.append(obs)\n",
        "        return obs"
      ],
      "metadata": {
        "id": "5vGPck9upNG-"
      },
      "execution_count": 28,
      "outputs": []
    },
    {
      "cell_type": "code",
      "source": [
        "class MarioRescale84x84(gym.ObservationWrapper):\n",
        "    \"\"\"\n",
        "    Downsamples/Rescales each frame to size 84x84 with greyscale\n",
        "    \"\"\"\n",
        "    def __init__(self, env=None):\n",
        "        super(MarioRescale84x84, self).__init__(env)\n",
        "        self.observation_space = gym.spaces.Box(low=0, high=255, shape=(84, 84, 1), dtype=np.uint8)\n",
        "\n",
        "    def observation(self, obs):\n",
        "        return MarioRescale84x84.process(obs)\n",
        "\n",
        "    @staticmethod\n",
        "    def process(frame):\n",
        "        if frame.size == 240 * 256 * 3:\n",
        "            img = np.reshape(frame, [240, 256, 3]).astype(np.float32)\n",
        "        else:\n",
        "            assert False, \"Unknown resolution.\" \n",
        "        # image normalization on RBG\n",
        "        img = img[:, :, 0] * 0.299 + img[:, :, 1] * 0.587 + img[:, :, 2] * 0.114\n",
        "        resized_screen = cv2.resize(img, (84, 110), interpolation=cv2.INTER_AREA)\n",
        "        x_t = resized_screen[18:102, :]\n",
        "        x_t = np.reshape(x_t, [84, 84, 1])\n",
        "        return x_t.astype(np.uint8)"
      ],
      "metadata": {
        "id": "Fiy2WUdcpLTq"
      },
      "execution_count": 29,
      "outputs": []
    },
    {
      "cell_type": "code",
      "source": [
        "class ImageToPyTorch(gym.ObservationWrapper):\n",
        "    \"\"\"\n",
        "    Each frame is converted to PyTorch tensors\n",
        "    \"\"\"\n",
        "    def __init__(self, env):\n",
        "        super(ImageToPyTorch, self).__init__(env)\n",
        "        old_shape = self.observation_space.shape\n",
        "        self.observation_space = gym.spaces.Box(low=0.0, high=1.0, shape=(old_shape[-1], old_shape[0], old_shape[1]), dtype=np.float32)\n",
        "\n",
        "    def observation(self, observation):\n",
        "        return np.moveaxis(observation, 2, 0)"
      ],
      "metadata": {
        "id": "179BWwUwpI45"
      },
      "execution_count": 30,
      "outputs": []
    },
    {
      "cell_type": "code",
      "source": [
        "class BufferWrapper(gym.ObservationWrapper):\n",
        "    \"\"\"\n",
        "    Only every k-th frame is collected by the buffer\n",
        "    \"\"\"\n",
        "    def __init__(self, env, n_steps, dtype=np.float32):\n",
        "        super(BufferWrapper, self).__init__(env)\n",
        "        self.dtype = dtype\n",
        "        old_space = env.observation_space\n",
        "        self.observation_space = gym.spaces.Box(old_space.low.repeat(n_steps, axis=0),\n",
        "                                                old_space.high.repeat(n_steps, axis=0), dtype=dtype)\n",
        "\n",
        "    def reset(self):\n",
        "        self.buffer = np.zeros_like(self.observation_space.low, dtype=self.dtype)\n",
        "        return self.observation(self.env.reset())\n",
        "\n",
        "    def observation(self, observation):\n",
        "        self.buffer[:-1] = self.buffer[1:]\n",
        "        self.buffer[-1] = observation\n",
        "        return self.buffer"
      ],
      "metadata": {
        "id": "Nzo-EEOypFWg"
      },
      "execution_count": 31,
      "outputs": []
    },
    {
      "cell_type": "code",
      "source": [
        "class PixelNormalization(gym.ObservationWrapper):\n",
        "    \"\"\"\n",
        "    Normalize pixel values in frame --> 0 to 1\n",
        "    \"\"\"\n",
        "    def observation(self, obs):\n",
        "        return np.array(obs).astype(np.float32) / 255.0\n",
        "\n",
        "\n",
        "def create_mario_env(env):\n",
        "    env = MaxAndSkipEnv(env)\n",
        "    env = MarioRescale84x84(env)\n",
        "    env = ImageToPyTorch(env)\n",
        "    env = BufferWrapper(env, 4)\n",
        "    env = PixelNormalization(env)\n",
        "    return JoypadSpace(env, SIMPLE_MOVEMENT)"
      ],
      "metadata": {
        "id": "ah7Aes-0o-Kv"
      },
      "execution_count": 32,
      "outputs": []
    },
    {
      "cell_type": "code",
      "source": [
        "class DQNSolver(nn.Module):\n",
        "    \"\"\"\n",
        "    Convolutional Neural Net with 3 conv layers and two linear layers\n",
        "    \"\"\"\n",
        "    def __init__(self, input_shape, n_actions):\n",
        "        super(DQNSolver, self).__init__()\n",
        "        self.conv = nn.Sequential(\n",
        "            nn.Conv2d(input_shape[0], 32, kernel_size=8, stride=4),\n",
        "            nn.ReLU(),\n",
        "            nn.Conv2d(32, 64, kernel_size=4, stride=2),\n",
        "            nn.ReLU(),\n",
        "            nn.Conv2d(64, 64, kernel_size=3, stride=1),\n",
        "            nn.ReLU()\n",
        "        )\n",
        "\n",
        "        conv_out_size = self._get_conv_out(input_shape)\n",
        "        self.fc = nn.Sequential(\n",
        "            nn.Linear(conv_out_size, 512),\n",
        "            nn.ReLU(),\n",
        "            nn.Linear(512, n_actions)\n",
        "        )\n",
        "    \n",
        "    def _get_conv_out(self, shape):\n",
        "        o = self.conv(torch.zeros(1, *shape))\n",
        "        return int(np.prod(o.size()))\n",
        "\n",
        "    def forward(self, x):\n",
        "        conv_out = self.conv(x).view(x.size()[0], -1)\n",
        "        return self.fc(conv_out)"
      ],
      "metadata": {
        "id": "FFvqiT6uo5S4"
      },
      "execution_count": 33,
      "outputs": []
    },
    {
      "cell_type": "code",
      "source": [
        "class DQNAgent:\n",
        "\n",
        "    def __init__(self, state_space, action_space, max_memory_size, batch_size, gamma, lr,\n",
        "                 dropout, exploration_max, exploration_min, exploration_decay, double_dqn, pretrained):\n",
        "\n",
        "        # Define DQN Layers\n",
        "        self.state_space = state_space\n",
        "        self.action_space = action_space\n",
        "        self.double_dqn = double_dqn\n",
        "        self.pretrained = pretrained\n",
        "        self.device = 'cuda' if torch.cuda.is_available() else 'cpu'\n",
        "        \n",
        "        # Double DQN network\n",
        "        if self.double_dqn:  \n",
        "            self.local_net = DQNSolver(state_space, action_space).to(self.device)\n",
        "            self.target_net = DQNSolver(state_space, action_space).to(self.device)\n",
        "            \n",
        "            if self.pretrained:\n",
        "                self.local_net.load_state_dict(torch.load(\"DQN1.pt\", map_location=torch.device(self.device)))\n",
        "                self.target_net.load_state_dict(torch.load(\"DQN2.pt\", map_location=torch.device(self.device)))\n",
        "                    \n",
        "            self.optimizer = torch.optim.Adam(self.local_net.parameters(), lr=lr)\n",
        "            self.copy = 5000  # Copy the local model weights into the target network every 5000 steps\n",
        "            self.step = 0\n",
        "        # DQN network\n",
        "        else:  \n",
        "            self.dqn = DQNSolver(state_space, action_space).to(self.device)\n",
        "            \n",
        "            if self.pretrained:\n",
        "                self.dqn.load_state_dict(torch.load(\"DQN.pt\", map_location=torch.device(self.device)))\n",
        "            self.optimizer = torch.optim.Adam(self.dqn.parameters(), lr=lr)\n",
        "\n",
        "        # Create memory\n",
        "        self.max_memory_size = max_memory_size\n",
        "        if self.pretrained:\n",
        "            self.STATE_MEM = torch.load(\"STATE_MEM.pt\")\n",
        "            self.ACTION_MEM = torch.load(\"ACTION_MEM.pt\")\n",
        "            self.REWARD_MEM = torch.load(\"REWARD_MEM.pt\")\n",
        "            self.STATE2_MEM = torch.load(\"STATE2_MEM.pt\")\n",
        "            self.DONE_MEM = torch.load(\"DONE_MEM.pt\")\n",
        "            with open(\"ending_position.pkl\", 'rb') as f:\n",
        "                self.ending_position = pickle.load(f)\n",
        "            with open(\"num_in_queue.pkl\", 'rb') as f:\n",
        "                self.num_in_queue = pickle.load(f)\n",
        "        else:\n",
        "            self.STATE_MEM = torch.zeros(max_memory_size, *self.state_space)\n",
        "            self.ACTION_MEM = torch.zeros(max_memory_size, 1)\n",
        "            self.REWARD_MEM = torch.zeros(max_memory_size, 1)\n",
        "            self.STATE2_MEM = torch.zeros(max_memory_size, *self.state_space)\n",
        "            self.DONE_MEM = torch.zeros(max_memory_size, 1)\n",
        "            self.ending_position = 0\n",
        "            self.num_in_queue = 0\n",
        "        \n",
        "        self.memory_sample_size = batch_size\n",
        "        \n",
        "        # Learning parameters\n",
        "        self.gamma = gamma\n",
        "        self.l1 = nn.SmoothL1Loss().to(self.device) # Also known as Huber loss\n",
        "        self.exploration_max = exploration_max\n",
        "        self.exploration_rate = exploration_max\n",
        "        self.exploration_min = exploration_min\n",
        "        self.exploration_decay = exploration_decay\n",
        "\n",
        "    def remember(self, state, action, reward, state2, done):\n",
        "        \"\"\"Store the experiences in a buffer to use later\"\"\"\n",
        "        self.STATE_MEM[self.ending_position] = state.float()\n",
        "        self.ACTION_MEM[self.ending_position] = action.float()\n",
        "        self.REWARD_MEM[self.ending_position] = reward.float()\n",
        "        self.STATE2_MEM[self.ending_position] = state2.float()\n",
        "        self.DONE_MEM[self.ending_position] = done.float()\n",
        "        self.ending_position = (self.ending_position + 1) % self.max_memory_size  # FIFO tensor\n",
        "        self.num_in_queue = min(self.num_in_queue + 1, self.max_memory_size)\n",
        "    \n",
        "    def batch_experiences(self):\n",
        "        \"\"\"Randomly sample 'batch size' experiences\"\"\"\n",
        "        idx = random.choices(range(self.num_in_queue), k=self.memory_sample_size)\n",
        "        STATE = self.STATE_MEM[idx]\n",
        "        ACTION = self.ACTION_MEM[idx]\n",
        "        REWARD = self.REWARD_MEM[idx]\n",
        "        STATE2 = self.STATE2_MEM[idx]\n",
        "        DONE = self.DONE_MEM[idx]      \n",
        "        return STATE, ACTION, REWARD, STATE2, DONE\n",
        "    \n",
        "    def act(self, state):\n",
        "        \"\"\"Epsilon-greedy action\"\"\"\n",
        "        if self.double_dqn:\n",
        "            self.step += 1\n",
        "        if random.random() < self.exploration_rate:  \n",
        "            return torch.tensor([[random.randrange(self.action_space)]])\n",
        "        if self.double_dqn:\n",
        "            # Local net is used for the policy\n",
        "            return torch.argmax(self.local_net(state.to(self.device))).unsqueeze(0).unsqueeze(0).cpu()\n",
        "        else:\n",
        "            return torch.argmax(self.dqn(state.to(self.device))).unsqueeze(0).unsqueeze(0).cpu()\n",
        "    \n",
        "    def copy_model(self):\n",
        "        \"\"\"Copy local net weights into target net for DDQN network\"\"\"\n",
        "        self.target_net.load_state_dict(self.local_net.state_dict())\n",
        "    \n",
        "    def experience_replay(self):\n",
        "        \"\"\"Use the double Q-update or Q-update equations to update the network weights\"\"\"\n",
        "        if self.double_dqn and self.step % self.copy == 0:\n",
        "            self.copy_model()\n",
        "\n",
        "        if self.memory_sample_size > self.num_in_queue:\n",
        "            return\n",
        "    \n",
        "        # Sample a batch of experiences\n",
        "        STATE, ACTION, REWARD, STATE2, DONE = self.batch_experiences()\n",
        "        STATE = STATE.to(self.device)\n",
        "        ACTION = ACTION.to(self.device)\n",
        "        REWARD = REWARD.to(self.device)\n",
        "        STATE2 = STATE2.to(self.device)\n",
        "        DONE = DONE.to(self.device)\n",
        "        \n",
        "        self.optimizer.zero_grad()\n",
        "        if self.double_dqn:\n",
        "            # Double Q-Learning target is Q*(S, A) <- r + γ max_a Q_target(S', a)\n",
        "            target = REWARD + torch.mul((self.gamma * self.target_net(STATE2).max(1).values.unsqueeze(1)),  1 - DONE)\n",
        "\n",
        "            current = self.local_net(STATE).gather(1, ACTION.long()) # Local net approximation of Q-value\n",
        "        else:\n",
        "            # Q-Learning target is Q*(S, A) <- r + γ max_a Q(S', a) \n",
        "            target = REWARD + torch.mul((self.gamma * self.dqn(STATE2).max(1).values.unsqueeze(1)), 1 - DONE)\n",
        "                \n",
        "            current = self.dqn(STATE).gather(1, ACTION.long())\n",
        "        \n",
        "        loss = self.l1(current, target)\n",
        "        loss.backward() # Compute gradients\n",
        "        self.optimizer.step() # Backpropagate error\n",
        "\n",
        "        self.exploration_rate *= self.exploration_decay\n",
        "        \n",
        "        # Makes sure that exploration rate is always at least 'exploration min'\n",
        "        self.exploration_rate = max(self.exploration_rate, self.exploration_min)\n",
        "        \n",
        "def show_state(env, ep=0, info=\"\"):\n",
        "    \"\"\"While testing show the mario playing environment\"\"\"\n",
        "    plt.figure(3)\n",
        "    plt.clf()\n",
        "    plt.imshow(env.render(mode='rgb_array'))\n",
        "    plt.title(\"Episode: %d %s\" % (ep, info))\n",
        "    plt.axis('off')\n",
        "\n",
        "    display.clear_output(wait=True)\n",
        "    display.display(plt.gcf())\n",
        "    \n",
        "def run(training_mode, pretrained, double_dqn, num_episodes=1000, exploration_max=1):\n",
        "   \n",
        "    env = gym_super_mario_bros.make('SuperMarioBros-1-1-v0')\n",
        "    env = create_mario_env(env)  # Wraps the environment so that frames are grayscale \n",
        "    observation_space = env.observation_space.shape\n",
        "    action_space = env.action_space.n\n",
        "    agent = DQNAgent(state_space=observation_space,\n",
        "                     action_space=action_space,\n",
        "                     max_memory_size=30000,\n",
        "                     batch_size=32,\n",
        "                     gamma=0.90,\n",
        "                     lr=0.00025,\n",
        "                     dropout=0.2,\n",
        "                     exploration_max=1.0,\n",
        "                     exploration_min=0.02,\n",
        "                     exploration_decay=0.99,\n",
        "                     double_dqn=double_dqn,\n",
        "                     pretrained=pretrained)\n",
        "    \n",
        "    # Restart the enviroment for each episode\n",
        "    num_episodes = num_episodes\n",
        "    env.reset()\n",
        "    \n",
        "    total_rewards = []\n",
        "    if training_mode and pretrained:\n",
        "        with open(\"total_rewards.pkl\", 'rb') as f:\n",
        "            total_rewards = pickle.load(f)\n",
        "    \n",
        "    for ep_num in tqdm(range(num_episodes)):\n",
        "        state = env.reset()\n",
        "        state = torch.Tensor([state])\n",
        "        total_reward = 0\n",
        "        steps = 0\n",
        "        while True:\n",
        "            if not training_mode:\n",
        "                show_state(env, ep_num)\n",
        "            action = agent.act(state)\n",
        "            steps += 1\n",
        "            \n",
        "            state_next, reward, terminal, info = env.step(int(action[0]))\n",
        "            total_reward += reward\n",
        "            state_next = torch.Tensor([state_next])\n",
        "            reward = torch.tensor([reward]).unsqueeze(0)\n",
        "            \n",
        "            terminal = torch.tensor([int(terminal)]).unsqueeze(0)\n",
        "            \n",
        "            if training_mode:\n",
        "                agent.remember(state, action, reward, state_next, terminal)\n",
        "                agent.experience_replay()\n",
        "            \n",
        "            state = state_next\n",
        "            if terminal:\n",
        "                break\n",
        "        \n",
        "        total_rewards.append(total_reward)\n",
        "        \n",
        "        if ep_num != 0 and ep_num % 100 == 0:\n",
        "            print(\"Episode {} score = {}, average score = {}\".format(ep_num + 1, total_rewards[-1], np.mean(total_rewards)))\n",
        "        num_episodes += 1  \n",
        "\n",
        "    print(\"Episode {} score = {}, average score = {}\".format(ep_num + 1, total_rewards[-1], np.mean(total_rewards)))\n",
        "    \n",
        "    # Save the trained memory so that we can continue from where we stop using 'pretrained' = True\n",
        "    if training_mode:\n",
        "        with open(\"ending_position.pkl\", \"wb\") as f:\n",
        "            pickle.dump(agent.ending_position, f)\n",
        "        with open(\"num_in_queue.pkl\", \"wb\") as f:\n",
        "            pickle.dump(agent.num_in_queue, f)\n",
        "        with open(\"total_rewards.pkl\", \"wb\") as f:\n",
        "            pickle.dump(total_rewards, f)\n",
        "        if agent.double_dqn:\n",
        "            torch.save(agent.local_net.state_dict(), \"DQN1.pt\")\n",
        "            torch.save(agent.target_net.state_dict(), \"DQN2.pt\")\n",
        "        else:\n",
        "            torch.save(agent.dqn.state_dict(), \"DQN.pt\")  \n",
        "        torch.save(agent.STATE_MEM,  \"STATE_MEM.pt\")\n",
        "        torch.save(agent.ACTION_MEM, \"ACTION_MEM.pt\")\n",
        "        torch.save(agent.REWARD_MEM, \"REWARD_MEM.pt\")\n",
        "        torch.save(agent.STATE2_MEM, \"STATE2_MEM.pt\")\n",
        "        torch.save(agent.DONE_MEM,   \"DONE_MEM.pt\")\n",
        "    \n",
        "    env.close()"
      ],
      "metadata": {
        "id": "0rBvdUk5ool5"
      },
      "execution_count": 42,
      "outputs": []
    },
    {
      "cell_type": "code",
      "source": [
        "# For training\n",
        "run(training_mode=True, pretrained=False, double_dqn=True, num_episodes=100, exploration_max = 1)"
      ],
      "metadata": {
        "colab": {
          "base_uri": "https://localhost:8080/"
        },
        "id": "M7ZfoL0MlfDT",
        "outputId": "0e9d2433-196a-47b1-9d3c-98bfd1b038a7"
      },
      "execution_count": 43,
      "outputs": [
        {
          "output_type": "stream",
          "name": "stderr",
          "text": [
            "100%|██████████| 100/100 [16:04<00:00,  9.65s/it]\n"
          ]
        },
        {
          "output_type": "stream",
          "name": "stdout",
          "text": [
            "Episode 100 score = 755.0, average score = 343.09\n"
          ]
        }
      ]
    },
    {
      "cell_type": "code",
      "source": [
        "# For Testing\n",
        "run(training_mode=False, pretrained=True, double_dqn=True, num_episodes=3, exploration_max = 0.10)"
      ],
      "metadata": {
        "colab": {
          "base_uri": "https://localhost:8080/",
          "height": 548
        },
        "id": "tTygPUxTlVbq",
        "outputId": "a63717c0-b802-4bde-ae77-02de72da7dfc"
      },
      "execution_count": 45,
      "outputs": [
        {
          "output_type": "display_data",
          "data": {
            "text/plain": [
              "<Figure size 432x288 with 1 Axes>"
            ],
            "image/png": "[encoded data removed]"
          },
          "metadata": {}
        },
        {
          "output_type": "stream",
          "name": "stderr",
          "text": [
            "100%|██████████| 3/3 [02:25<00:00, 48.65s/it]\n"
          ]
        },
        {
          "output_type": "stream",
          "name": "stdout",
          "text": [
            "Episode 3 score = 202.0, average score = 298.6666666666667\n"
          ]
        },
        {
          "output_type": "display_data",
          "data": {
            "text/plain": [
              "<Figure size 432x288 with 1 Axes>"
            ],
            "image/png": "[encoded data removed]"
          },
          "metadata": {
            "needs_background": "light"
          }
        }
      ]
    },
    {
      "cell_type": "code",
      "source": [],
      "metadata": {
        "id": "_ZBIXGIytYbz"
      },
      "execution_count": null,
      "outputs": []
    }
  ]
}